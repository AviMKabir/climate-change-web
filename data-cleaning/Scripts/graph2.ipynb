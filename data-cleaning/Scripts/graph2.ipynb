{
 "cells": [
  {
   "cell_type": "code",
   "execution_count": 1,
   "metadata": {},
   "outputs": [],
   "source": [
    "import numpy as np\n",
    "import pandas as pd\n",
    "import matplotlib.pyplot as plt\n",
    "import seaborn as sns\n",
    "sns.set(style=\"darkgrid\")\n",
    "from matplotlib.pyplot import figure"
   ]
  },
  {
   "cell_type": "code",
   "execution_count": null,
   "metadata": {},
   "outputs": [],
   "source": []
  },
  {
   "cell_type": "code",
   "execution_count": null,
   "metadata": {},
   "outputs": [],
   "source": [
    "plt.hlines(world_avg_prev, 0, 10, colors='black', linestyles='dashed', label= 'World Average for Mental Health Disorder Prevalence', alpha=0.4)\n",
    "ef_coef = numpy.corrcoef(dropped_values_df['Economic Freedom Score'], dropped_values_df['Prevalence Percentage'])\n",
    "x = dropped_values_df['Economic Freedom Score']\n",
    "y = dropped_values_df['Prevalence Percentage']\n",
    "coef = numpy.polyfit(x,y,1)\n",
    "poly1d_fn = numpy.poly1d(coef) \n",
    "plt.plot(x,y, '.', x, poly1d_fn(x), 'k', alpha=0.6)\n",
    "plt.scatter(dropped_values_df['Economic Freedom Score'], dropped_values_df['Prevalence Percentage'], marker ='.', alpha=0.7)\n",
    "plt.title('Mental Health Disorder Prevalence as Economic Freedom Score Increases', fontweight='bold')\n",
    "plt.xlabel('Economic Freedom Score', fontweight='bold')\n",
    "plt.ylabel('Prevalence of Mental Health Disorders (%)', fontweight='bold')\n",
    "plt.rcParams[\"figure.figsize\"] = [9,6]\n",
    "plt.xlim(2.5,9.5)\n",
    "plt.legend(loc='upper left', fontsize='small')\n",
    "#plt.savefig('Mental Health Disorder Prevalence and Economic Freedom Score with World Average and Regression Line.png', dpi='figure')\n",
    "\n"
   ]
  }
 ],
 "metadata": {
  "kernelspec": {
   "display_name": "Python 3",
   "language": "python",
   "name": "python3"
  },
  "language_info": {
   "codemirror_mode": {
    "name": "ipython",
    "version": 3
   },
   "file_extension": ".py",
   "mimetype": "text/x-python",
   "name": "python",
   "nbconvert_exporter": "python",
   "pygments_lexer": "ipython3",
   "version": "3.7.4"
  }
 },
 "nbformat": 4,
 "nbformat_minor": 2
}
